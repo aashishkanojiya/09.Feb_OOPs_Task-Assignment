{
  "metadata": {
    "kernelspec": {
      "name": "python",
      "display_name": "Python (Pyodide)",
      "language": "python"
    },
    "language_info": {
      "codemirror_mode": {
        "name": "python",
        "version": 3
      },
      "file_extension": ".py",
      "mimetype": "text/x-python",
      "name": "python",
      "nbconvert_exporter": "python",
      "pygments_lexer": "ipython3",
      "version": "3.8"
    }
  },
  "nbformat_minor": 4,
  "nbformat": 4,
  "cells": [
    {
      "cell_type": "markdown",
      "source": "Q1, Create a vehicle class with an init method having instance variables as name_of_vehicle, max_speed\nand average_of_vehicle.",
      "metadata": {}
    },
    {
      "cell_type": "code",
      "source": "##Answer:-\n\nclass Vehicle:\n    def __init__(self, name_of_vehicle, max_speed, average_of_vehicle):\n        self.name_of_vehicle = name_of_vehicle\n        self.max_speed = max_speed\n        self.average_of_vehicle = average_of_vehicle\n\nmy_vehicle = Vehicle(\"Lamborghini\", 395, 15)\nprint(f\"Vehicle: {my_vehicle.name_of_vehicle}, Max Speed: {my_vehicle.max_speed} km/h, Average: {my_vehicle.average_of_vehicle} km/l\")\n",
      "metadata": {
        "trusted": true
      },
      "outputs": [
        {
          "name": "stdout",
          "text": "Vehicle: Lamborghini, Max Speed: 395 km/h, Average: 15 km/l\n",
          "output_type": "stream"
        }
      ],
      "execution_count": 3
    },
    {
      "cell_type": "markdown",
      "source": "This class initializes with the name of the vehicle, its maximum speed, and its average. The example usage demonstrates how to create an instance of the Vehicle class and print its attributes.",
      "metadata": {}
    },
    {
      "cell_type": "markdown",
      "source": "Q2. Create a child class car from the vehicle class created in Que 1, which will inherit the vehicle class.\nCreate a method named seating_capacity which takes capacity as an argument and returns the name of\nthe vehicle and its seating capacity.",
      "metadata": {}
    },
    {
      "cell_type": "code",
      "source": "##Answer:-\n\nclass Vehicle:\n    def __init__(self, name_of_vehicle, max_speed, average_of_vehicle):\n        self.name_of_vehicle = name_of_vehicle\n        self.max_speed = max_speed\n        self.average_of_vehicle = average_of_vehicle\n\nclass Car(Vehicle):\n    def seating_capacity(self, capacity):\n        return f\"{self.name_of_vehicle} has a seating capacity of {capacity} people.\"\n\nmy_car = Car(\"Lamborghini\", 200, 12)\nprint(my_car.seating_capacity(2)) \n",
      "metadata": {
        "trusted": true
      },
      "outputs": [
        {
          "name": "stdout",
          "text": "Lamborghini has a seating capacity of 2 people.\n",
          "output_type": "stream"
        }
      ],
      "execution_count": 6
    },
    {
      "cell_type": "markdown",
      "source": "In the above code The Car class inherits from the Vehicle class.The seating_capacity method in the Car class takes capacity as an argument and returns a string with the vehicle's name and its seating capacity.",
      "metadata": {}
    },
    {
      "cell_type": "markdown",
      "source": "Q3. What is multiple inheritance? Write a python code to demonstrate multiple inheritance.",
      "metadata": {}
    },
    {
      "cell_type": "markdown",
      "source": "Answers:-Multiple inheritance is a feature in some OOPs languages, including Python, where a class can inherit attributes and methods from more than one parent class. This allows for the creation of a new class that incorporates the functionality of multiple base classes.\n\nCode Of Demonstrate multiple inheritance",
      "metadata": {}
    },
    {
      "cell_type": "code",
      "source": "# Parent class \nclass Engine:\n    def start(self):\n        return \"Engine started\"\n\n# Parent class 2\nclass Wheels:\n    def roll(self):\n        return \"Wheels rolling\"\n\n# Child class\nclass Car(Engine, Wheels):\n    def drive(self):\n        return \"Car is driving\"\n\nmy_car = Car()\nprint(my_car.start())  # Output: Engine started\nprint(my_car.roll())   # Output: Wheels rolling\nprint(my_car.drive())  # Output: Car is driving\n",
      "metadata": {
        "trusted": true
      },
      "outputs": [
        {
          "name": "stdout",
          "text": "Engine started\nWheels rolling\nCar is driving\n",
          "output_type": "stream"
        }
      ],
      "execution_count": 8
    },
    {
      "cell_type": "markdown",
      "source": "This demonstrates how Car inherits methods from both Engine and Wheels classes.",
      "metadata": {}
    },
    {
      "cell_type": "markdown",
      "source": "Q4. What are getter and setter in python? Create a class and create a getter and a setter method in this\nclass.",
      "metadata": {}
    },
    {
      "cell_type": "markdown",
      "source": "Answer:-Getters and setters in Python are methods used to access and modify the attributes of a class. They allow for controlled access and updates to the data encapsulated within a class, providing a way to include validation or other logic when getting or setting a value.\nGetters:-\nPurpose: Retrieve the value of an attribute.\nImplementation: Using the @property decorator.\n\nSetters\nPurpose: Set or update the value of an attribute.\nImplementation: Using the @property_name.setter decorator.",
      "metadata": {}
    },
    {
      "cell_type": "code",
      "source": "class Student:\n    def __init__(self, name):\n        self._name = name\n\n    # Getter\n    @property\n    def name(self):\n        return self._name\n\n    # Setter\n    @name.setter\n    def name(self, new_name):\n        if isinstance(new_name, str) and new_name.strip():\n            self._name = new_name\n        else:\n            raise ValueError(\"Name must be a non-empty string\")\n\nstudent = Student(\"Alice\")\nprint(student.name) \nstudent.name = \"Bob\"\nprint(student.name)  ",
      "metadata": {
        "trusted": true
      },
      "outputs": [
        {
          "name": "stdout",
          "text": "Alice\nBob\n",
          "output_type": "stream"
        }
      ],
      "execution_count": 10
    },
    {
      "cell_type": "markdown",
      "source": "The Above Code:-This code defines a Student class with a name attribute, along with getter and setter methods to access and modify the name",
      "metadata": {}
    },
    {
      "cell_type": "markdown",
      "source": "Q5.What is method overriding in python? Write a python code to demonstrate method overriding.",
      "metadata": {}
    },
    {
      "cell_type": "markdown",
      "source": "Answer:-The Method overriding in Python allows a subclass to provide a specific implementation of a method that is already defined in its parent class. This is useful when a subclass needs to modify or extend the behavior of a method inherited from a parent class.\n\nExample",
      "metadata": {}
    },
    {
      "cell_type": "code",
      "source": "# Parent class\nclass Animal:\n    def sound(self):\n        return \"Some generic animal sound\"\n\n# Child class\nclass Dog(Animal):\n    def sound(self):\n        return \"Bark\"\n\n# Child class\nclass Cat(Animal):\n    def sound(self):\n        return \"Meow\"\n\ndog = Dog()\ncat = Cat()\nprint(dog.sound())  # Output: Bark\nprint(cat.sound())  # Output: Meow\n",
      "metadata": {
        "trusted": true
      },
      "outputs": [
        {
          "name": "stdout",
          "text": "Bark\nMeow\n",
          "output_type": "stream"
        }
      ],
      "execution_count": 11
    },
    {
      "cell_type": "code",
      "source": "In Th",
      "metadata": {
        "trusted": true
      },
      "outputs": [],
      "execution_count": null
    }
  ]
}